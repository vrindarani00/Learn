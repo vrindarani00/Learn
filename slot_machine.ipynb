{
  "nbformat": 4,
  "nbformat_minor": 0,
  "metadata": {
    "colab": {
      "provenance": [],
      "authorship_tag": "ABX9TyMwMo4ZuYR/RQhGk544f0fD",
      "include_colab_link": true
    },
    "kernelspec": {
      "name": "python3",
      "display_name": "Python 3"
    },
    "language_info": {
      "name": "python"
    }
  },
  "cells": [
    {
      "cell_type": "markdown",
      "metadata": {
        "id": "view-in-github",
        "colab_type": "text"
      },
      "source": [
        "<a href=\"https://colab.research.google.com/github/vrindarani00/Learn/blob/main/slot_machine.ipynb\" target=\"_parent\"><img src=\"https://colab.research.google.com/assets/colab-badge.svg\" alt=\"Open In Colab\"/></a>"
      ]
    },
    {
      "cell_type": "markdown",
      "source": [
        "Text based slot machine:- User will deposit a certain amount of money, then we are going to allow them to bet on one,two or three lines of slot machines\n",
        "then going to determine that  is if they got any lines we will multiply their bet by the value line add that to their balance  and then allow them to keep playing until they want to cash out or until they run out of money"
      ],
      "metadata": {
        "id": "wReu_R1wHsGq"
      }
    },
    {
      "cell_type": "code",
      "source": [
        "def deposit():\n",
        "  while True:\n",
        "    amt = input(\"what would you like to deposit? $\")\n",
        "    if amt.isdigit():\n",
        "      amt = int(amt)\n",
        "      if amt>0:\n",
        "        break\n",
        "      else:\n",
        "        print(\"Amount must be greater than 0.\")\n",
        "  return amt"
      ],
      "metadata": {
        "id": "9mdKdNZ2Mwlh"
      },
      "execution_count": 3,
      "outputs": []
    },
    {
      "cell_type": "code",
      "source": [],
      "metadata": {
        "id": "lzPGIUe4Q9vb"
      },
      "execution_count": null,
      "outputs": []
    }
  ]
}